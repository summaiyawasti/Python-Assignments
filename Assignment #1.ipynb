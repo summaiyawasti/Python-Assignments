{
 "cells": [
  {
   "cell_type": "code",
   "execution_count": 6,
   "metadata": {},
   "outputs": [
    {
     "name": "stdout",
     "output_type": "stream",
     "text": [
      "Twinkle, twinkle, little star, \n",
      "          How I wonder what you are! \n",
      "               Up above the world so high, \n",
      "               Like a diamond in the sky.\n",
      "       Twinkle, twinkle, little star, \n",
      "          How I wonder what you are\n"
     ]
    }
   ],
   "source": [
    "print(\"\"\"Twinkle, twinkle, little star, \n",
    "          How I wonder what you are! \n",
    "               Up above the world so high, \n",
    "               Like a diamond in the sky.\n",
    "       Twinkle, twinkle, little star, \n",
    "          How I wonder what you are\"\"\") "
   ]
  },
  {
   "cell_type": "code",
   "execution_count": 8,
   "metadata": {},
   "outputs": [
    {
     "name": "stdout",
     "output_type": "stream",
     "text": [
      "Python version: \n",
      "3\n"
     ]
    }
   ],
   "source": [
    "import sys\n",
    "print(\"Python version: \")\n",
    "print(sys.version_info.major)"
   ]
  },
  {
   "cell_type": "code",
   "execution_count": 11,
   "metadata": {},
   "outputs": [
    {
     "name": "stdout",
     "output_type": "stream",
     "text": [
      "current date and time: \n",
      "2019-11-03 20:13:21\n"
     ]
    }
   ],
   "source": [
    "import datetime\n",
    "now= datetime.datetime.now()\n",
    "print(\"current date and time: \")\n",
    "print(now.strftime(\"%Y-%m-%d %H:%M:%S\"))"
   ]
  },
  {
   "cell_type": "code",
   "execution_count": 20,
   "metadata": {},
   "outputs": [
    {
     "name": "stdout",
     "output_type": "stream",
     "text": [
      "enter radius of circle: 1\n",
      "3.14\n"
     ]
    }
   ],
   "source": [
    "r=int(input(\"enter radius of circle: \"))\n",
    "Area= 3.14*r**2\n",
    "print(Area)"
   ]
  },
  {
   "cell_type": "code",
   "execution_count": 44,
   "metadata": {},
   "outputs": [
    {
     "name": "stdout",
     "output_type": "stream",
     "text": [
      "enter your first name: summaiya\n",
      "enter your second name: wasti\n",
      "The original name  is : \n",
      "summaiya wasti\n",
      "The reversed name is : \n",
      "ayiammus itsaw\n"
     ]
    }
   ],
   "source": [
    "def reverse(s): \n",
    "  str = \"\" \n",
    "  for i in s: \n",
    "    str = i + str\n",
    "  return str\n",
    "  \n",
    "first=input(\"enter your first name: \")\n",
    "second=input(\"enter your second name: \")    \n",
    "\n",
    "  \n",
    "print (\"The original name  is : \") \n",
    "print (first, second)\n",
    "  \n",
    "print (\"The reversed name is : \") \n",
    "print (reverse(first),reverse(second))\n"
   ]
  },
  {
   "cell_type": "code",
   "execution_count": 45,
   "metadata": {},
   "outputs": [
    {
     "name": "stdout",
     "output_type": "stream",
     "text": [
      "enter 1st value: 12\n",
      "enter 2nd value: 11\n",
      "23\n"
     ]
    }
   ],
   "source": [
    "a=int(input(\"enter 1st value: \"))\n",
    "b=int(input(\"enter 2nd value: \"))\n",
    "c= a+b\n",
    "print(c)"
   ]
  },
  {
   "cell_type": "code",
   "execution_count": null,
   "metadata": {},
   "outputs": [],
   "source": []
  },
  {
   "cell_type": "code",
   "execution_count": null,
   "metadata": {},
   "outputs": [],
   "source": []
  }
 ],
 "metadata": {
  "kernelspec": {
   "display_name": "Python 3",
   "language": "python",
   "name": "python3"
  },
  "language_info": {
   "codemirror_mode": {
    "name": "ipython",
    "version": 3
   },
   "file_extension": ".py",
   "mimetype": "text/x-python",
   "name": "python",
   "nbconvert_exporter": "python",
   "pygments_lexer": "ipython3",
   "version": "3.7.4"
  }
 },
 "nbformat": 4,
 "nbformat_minor": 2
}
