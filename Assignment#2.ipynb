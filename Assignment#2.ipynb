{
 "cells": [
  {
   "cell_type": "code",
   "execution_count": 1,
   "metadata": {},
   "outputs": [
    {
     "name": "stdout",
     "output_type": "stream",
     "text": [
      "enter your percentage in sub1: 88\n",
      "A\n",
      "enter your percentage in sub2: 77\n",
      "B\n",
      "enter your percentage in sub3: 54\n",
      "D\n",
      "enter your percentage in sub4: 35\n",
      "E\n",
      "enter your percentage in sub5: 87\n",
      "A\n",
      "total marks:\n",
      "341\n"
     ]
    }
   ],
   "source": [
    "#Q-1\n",
    "a=int(input(\"enter your percentage in sub1: \"))\n",
    "if(a > 80) :\n",
    "   print(\"A\")\n",
    "elif (a >=70) :\n",
    " print(\"B\")\n",
    "elif (a >=60):\n",
    " print(\"C\")\n",
    "elif (a >50):\n",
    " print(\"D\")\n",
    "elif (a >=30):\n",
    " print(\"E\")\n",
    "elif (a >=0):\n",
    " print(\"F\")\n",
    "\n",
    "b=int(input(\"enter your percentage in sub2: \"))\n",
    "if(b > 80):\n",
    " print(\"A\")\n",
    "elif (b >=70):\n",
    " print(\"B\")\n",
    "elif (b >=60):\n",
    " print(\"C\")\n",
    "elif (b >50):\n",
    " print(\"D\")\n",
    "elif (b >=30):\n",
    " print(\"E\")\n",
    "elif (b >=0):\n",
    " print(\"F\")\n",
    "\n",
    "c=int(input(\"enter your percentage in sub3: \"))\n",
    "if(c > 80):\n",
    " print(\"A\")\n",
    "elif (c >=70):\n",
    " print(\"B\")\n",
    "elif (c >=60):\n",
    " print(\"C\")\n",
    "elif (c >50):\n",
    " print(\"D\")\n",
    "elif (c >=30):\n",
    " print(\"E\")\n",
    "elif (c >=0):\n",
    " print(\"F\")\n",
    "\n",
    "\n",
    "d=int(input(\"enter your percentage in sub4: \"))\n",
    "if(d > 80):\n",
    " print(\"A\")\n",
    "elif (d >=70):\n",
    " print(\"B\")\n",
    "elif (d >=60):\n",
    " print(\"C\")\n",
    "elif (d >50):\n",
    " print(\"D\")\n",
    "elif (d >=30):\n",
    " print(\"E\")\n",
    "elif (d >=0):\n",
    " print(\"F\")\n",
    "\n",
    "\n",
    "e=int(input(\"enter your percentage in sub5: \"))\n",
    "if(e > 80):\n",
    " print(\"A\")\n",
    "elif (e >=70):\n",
    " print(\"B\")\n",
    "elif (e >=60):\n",
    " print(\"C\")\n",
    "elif (e >50):\n",
    " print(\"D\")\n",
    "elif (e >=30):\n",
    " print(\"E\")\n",
    "elif (e >=0):\n",
    " print(\"F\")\n",
    "\n",
    "T=a+b+c+d+e\n",
    "print(\"total marks:\")\n",
    "print(T)\n",
    "\n"
   ]
  },
  {
   "cell_type": "code",
   "execution_count": 14,
   "metadata": {
    "scrolled": false
   },
   "outputs": [
    {
     "name": "stdout",
     "output_type": "stream",
     "text": [
      "6\n"
     ]
    }
   ],
   "source": [
    "#Q-3\n",
    "list=[\"sum\",\"wasti\",2,3,4,5]\n",
    "length=len(list)\n",
    "print(length)"
   ]
  },
  {
   "cell_type": "code",
   "execution_count": 13,
   "metadata": {},
   "outputs": [
    {
     "name": "stdout",
     "output_type": "stream",
     "text": [
      "15\n"
     ]
    }
   ],
   "source": [
    "#Q-4\n",
    "list=[1,2,3,4,5]\n",
    "sum= list[0]+list[1]+list[2]+list[3]+list[4]\n",
    "print(sum)"
   ]
  },
  {
   "cell_type": "code",
   "execution_count": 11,
   "metadata": {},
   "outputs": [
    {
     "name": "stdout",
     "output_type": "stream",
     "text": [
      "enter a number: 21\n",
      "odd number\n"
     ]
    }
   ],
   "source": [
    "#Q-2\n",
    "a=int(input(\"enter a number: \"))\n",
    "if(a % 2 == 0):\n",
    "   print(\"even number\")\n",
    "\n",
    "else :\n",
    "   print(\"odd number\")\n",
    " "
   ]
  },
  {
   "cell_type": "code",
   "execution_count": 15,
   "metadata": {},
   "outputs": [
    {
     "name": "stdout",
     "output_type": "stream",
     "text": [
      "5\n"
     ]
    }
   ],
   "source": [
    "#Q-5\n",
    "list=[1,2,3,4,5]\n",
    "largest= max(list)\n",
    "print(largest)"
   ]
  },
  {
   "cell_type": "code",
   "execution_count": 17,
   "metadata": {},
   "outputs": [
    {
     "name": "stdout",
     "output_type": "stream",
     "text": [
      "1\n",
      "1\n",
      "2\n",
      "3\n"
     ]
    }
   ],
   "source": [
    "#Q-6\n",
    "a = [1, 1, 2, 3, 5, 8, 13, 21, 34, 55, 89]\n",
    "if (a[0] < 5):\n",
    " print(a[0])\n",
    "if (a[1] < 5):\n",
    " print(a[1])\n",
    "if (a[2] < 5):\n",
    " print(a[2])\n",
    "if (a[3] < 5):\n",
    " print(a[3])\n",
    "if (a[4] < 5):\n",
    " print(a[4])\n",
    "if (a[5] < 5):\n",
    " print(a[5])\n",
    "if (a[6] < 5):\n",
    " print(a[6])\n",
    "if (a[7] < 5):\n",
    " print(a[7])\n",
    "if (a[8] < 5):\n",
    " print(a[8])\n",
    "if (a[9] < 5):\n",
    " print(a[9])\n",
    "if (a[10] < 5):\n",
    " print(a[10])"
   ]
  },
  {
   "cell_type": "code",
   "execution_count": null,
   "metadata": {},
   "outputs": [],
   "source": []
  }
 ],
 "metadata": {
  "kernelspec": {
   "display_name": "Python 3",
   "language": "python",
   "name": "python3"
  },
  "language_info": {
   "codemirror_mode": {
    "name": "ipython",
    "version": 3
   },
   "file_extension": ".py",
   "mimetype": "text/x-python",
   "name": "python",
   "nbconvert_exporter": "python",
   "pygments_lexer": "ipython3",
   "version": "3.7.4"
  }
 },
 "nbformat": 4,
 "nbformat_minor": 2
}
