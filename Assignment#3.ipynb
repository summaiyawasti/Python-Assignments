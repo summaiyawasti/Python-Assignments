{
 "cells": [
  {
   "cell_type": "code",
   "execution_count": 1,
   "metadata": {},
   "outputs": [
    {
     "name": "stdout",
     "output_type": "stream",
     "text": [
      "enter 1st value 3\n",
      "enter 2nd value 2\n",
      "enter operation to be performedpow\n",
      "answer:  9\n"
     ]
    }
   ],
   "source": [
    "value1=int(input(\"enter 1st value \"))\n",
    "value2=int(input(\"enter 2nd value \"))\n",
    "operation= input(\"enter operation to be performed\")\n",
    "if operation == \"+\" :\n",
    "   print(\"answer: \",value1+value2)\n",
    "elif operation == \"*\" :\n",
    "   print(\"answer: \",value1*value2)\n",
    "elif operation == \"-\" :\n",
    "   print(\"answer: \",value1-value2)\n",
    "elif operation == \"/\" :\n",
    "   print(\"answer: \",value1/value2)\n",
    "elif operation == \"pow\" :\n",
    "   print(\"answer: \",value1**value2)\n",
    "else:\n",
    "   print(\"wrong operation entered\")\n"
   ]
  },
  {
   "cell_type": "code",
   "execution_count": 2,
   "metadata": {},
   "outputs": [
    {
     "name": "stdout",
     "output_type": "stream",
     "text": [
      "there is a numeric item in list\n"
     ]
    }
   ],
   "source": [
    "items=[\"table\",\"chair\",\"50\"]\n",
    "for an_item in items :\n",
    "    if an_item.isdigit():\n",
    "       print(\"there is a numeric item in list\")\n",
    "       break\n",
    "else:\n",
    "  print(\"no numeric item in list\")"
   ]
  },
  {
   "cell_type": "code",
   "execution_count": 3,
   "metadata": {},
   "outputs": [
    {
     "name": "stdout",
     "output_type": "stream",
     "text": [
      "{'name': 'sum', 'age': '19', 'add': 'gulshan'}\n"
     ]
    }
   ],
   "source": [
    "dic={\"name\": \"sum\",\n",
    "     \"age\" : \"19\"}\n",
    "dic[\"add\"]=\"gulshan\"\n",
    "print(dic)"
   ]
  },
  {
   "cell_type": "code",
   "execution_count": 4,
   "metadata": {},
   "outputs": [
    {
     "name": "stdout",
     "output_type": "stream",
     "text": [
      "10\n"
     ]
    }
   ],
   "source": [
    "dic={\"v1\": 2,\n",
    "    \"v2\": 3,\n",
    "    \"v3\": 5}\n",
    "for each_value in dic.values():\n",
    "    print(sum(dic.values()))\n",
    "    break"
   ]
  },
  {
   "cell_type": "code",
   "execution_count": 5,
   "metadata": {},
   "outputs": [
    {
     "name": "stdout",
     "output_type": "stream",
     "text": [
      "1\n",
      "6\n",
      "table\n"
     ]
    }
   ],
   "source": [
    "x = [1,6,6,5,3,2,1,\"table\",\"table\"]\n",
    "for a in range(0,len(x)):\n",
    "    for b in range(a+1,len(x)):\n",
    "        if (x[a]==x[b]):\n",
    "           print(x[a])"
   ]
  },
  {
   "cell_type": "code",
   "execution_count": 6,
   "metadata": {},
   "outputs": [
    {
     "name": "stdout",
     "output_type": "stream",
     "text": [
      "enter a key to add in dictionaryage\n",
      "key already exists\n"
     ]
    }
   ],
   "source": [
    "dic={\"name\": \"sum\",\n",
    "     \"age\" : \"19\",\n",
    "     \"add\" : \"gulshan\"}\n",
    "a=input(\"enter a key to add in dictionary\")\n",
    "if a in dic:\n",
    "   print(\"key already exists\")\n",
    "else:\n",
    "   dic[a]=input(\"enter value for key\")\n",
    "   print(dic)"
   ]
  },
  {
   "cell_type": "code",
   "execution_count": null,
   "metadata": {},
   "outputs": [],
   "source": []
  }
 ],
 "metadata": {
  "kernelspec": {
   "display_name": "Python 3",
   "language": "python",
   "name": "python3"
  },
  "language_info": {
   "codemirror_mode": {
    "name": "ipython",
    "version": 3
   },
   "file_extension": ".py",
   "mimetype": "text/x-python",
   "name": "python",
   "nbconvert_exporter": "python",
   "pygments_lexer": "ipython3",
   "version": "3.7.4"
  }
 },
 "nbformat": 4,
 "nbformat_minor": 2
}
