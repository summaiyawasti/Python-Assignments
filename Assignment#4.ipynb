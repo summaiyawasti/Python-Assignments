{
 "cells": [
  {
   "cell_type": "code",
   "execution_count": 3,
   "metadata": {},
   "outputs": [
    {
     "name": "stdout",
     "output_type": "stream",
     "text": [
      "khola\n",
      "wasti\n",
      "26\n",
      "karachi\n"
     ]
    }
   ],
   "source": [
    "info={\"first_name\": \"khola\",\n",
    "      \"last_name\" : \"wasti\",\n",
    "      \"age\"     :26,\n",
    "      \"city\":\"karachi\"\n",
    "     }\n",
    "for each_value in info.values():\n",
    "   print(each_value)"
   ]
  },
  {
   "cell_type": "code",
   "execution_count": 4,
   "metadata": {},
   "outputs": [
    {
     "name": "stdout",
     "output_type": "stream",
     "text": [
      "khola\n",
      "wasti\n",
      "26\n",
      "karachi\n",
      "BS in biotechnology\n"
     ]
    }
   ],
   "source": [
    "info={\"first_name\": \"khola\",\n",
    "      \"last_name\" : \"wasti\",\n",
    "      \"age\"     :26,\n",
    "      \"city\":\"karachi\"\n",
    "     }\n",
    "info[\"qualification\"]=\"BS in biotechnology\"\n",
    "for each_value in info.values():\n",
    "   print(each_value)"
   ]
  },
  {
   "cell_type": "code",
   "execution_count": 6,
   "metadata": {},
   "outputs": [
    {
     "name": "stdout",
     "output_type": "stream",
     "text": [
      "khola\n",
      "wasti\n",
      "26\n",
      "karachi\n"
     ]
    }
   ],
   "source": [
    "info={\"first_name\": \"khola\",\n",
    "      \"last_name\" : \"wasti\",\n",
    "      \"age\"     :26,\n",
    "      \"city\":\"karachi\"\n",
    "     }\n",
    "info[\"qualification\"]=\"BS in biotechnology\"\n",
    "del info[\"qualification\"]\n",
    "for each_value in info.values():\n",
    "   print(each_value)"
   ]
  },
  {
   "cell_type": "code",
   "execution_count": 11,
   "metadata": {},
   "outputs": [
    {
     "name": "stdout",
     "output_type": "stream",
     "text": [
      "{'karachi': {'country': 'pakistan', 'population': '15 million', 'fact': 'largest city of pakistan'}, 'Makkah': {'country': 'Saudia Arabia', 'population': '1.5 million', 'fact': 'holiest city'}, 'Istanbul': {'country': 'Turkey', 'population': '15 million', 'fact': 'Both in Europe and Asia geographically'}}\n"
     ]
    }
   ],
   "source": [
    "cities={\n",
    "    \"karachi\":{ \"country\":\"pakistan\",\n",
    "               \"population\":\"15 million\",\n",
    "               \"fact\": \"largest city of pakistan\"\n",
    "        \n",
    "    },\n",
    "    \"Makkah\":{ \"country\":\"Saudia Arabia\",\n",
    "               \"population\":\"1.5 million\",\n",
    "               \"fact\": \"holiest city\"\n",
    "    },\n",
    "    \"Istanbul\":{ \"country\":\"Turkey\",\n",
    "               \"population\":\"15 million\",\n",
    "               \"fact\": \"Both in Europe and Asia geographically\"}\n",
    "}\n",
    "\n",
    "print(cities)"
   ]
  },
  {
   "cell_type": "code",
   "execution_count": 14,
   "metadata": {},
   "outputs": [
    {
     "name": "stdout",
     "output_type": "stream",
     "text": [
      "How old are you?\n",
      "Enter 'quit' when you are finished. 21\n",
      "  Your ticket is $15.\n",
      "How old are you?\n",
      "Enter 'quit' when you are finished. quit\n"
     ]
    }
   ],
   "source": [
    "Q = \"How old are you?\"\n",
    "Q += \"\\nEnter 'quit' when you are finished. \"\n",
    "\n",
    "while True:\n",
    "    age = input(Q)\n",
    "    if age == 'quit':\n",
    "        break\n",
    "    age = int(age)\n",
    "\n",
    "    if age < 3:\n",
    "        print(\"  You get in free!\")\n",
    "    elif age < 13:\n",
    "        print(\"  Your ticket is $10.\")\n",
    "    else:\n",
    "        print(\"  Your ticket is $15.\")"
   ]
  },
  {
   "cell_type": "code",
   "execution_count": 16,
   "metadata": {},
   "outputs": [
    {
     "name": "stdout",
     "output_type": "stream",
     "text": [
      "The Da Vinci Code is one of my favorite books.\n"
     ]
    }
   ],
   "source": [
    "def favorite_book(title):\n",
    "    \n",
    "    print(title + \" is one of my favorite books.\")\n",
    "\n",
    "favorite_book('The Da Vinci Code')"
   ]
  },
  {
   "cell_type": "code",
   "execution_count": 27,
   "metadata": {},
   "outputs": [],
   "source": []
  },
  {
   "cell_type": "code",
   "execution_count": 29,
   "metadata": {},
   "outputs": [
    {
     "name": "stdout",
     "output_type": "stream",
     "text": [
      "Hello! What is your name?\n",
      "sum\n",
      "Well, sum, I am thinking of a number between 1 and 30.\n",
      "Take a guess.\n",
      "20\n",
      "Your guess is too high.\n",
      "Take a guess.\n",
      "12\n",
      "Your guess is too high.\n",
      "Take a guess.\n",
      "15\n",
      "Your guess is too high.\n",
      "Nope. The number I was thinking of was 3\n"
     ]
    }
   ],
   "source": [
    "\n",
    "\n",
    "import random\n",
    "\n",
    "\n",
    "\n",
    "guessesTaken = 0\n",
    "\n",
    "\n",
    "\n",
    "print('Hello! What is your name?')\n",
    "\n",
    "myName = input()\n",
    "\n",
    "\n",
    "\n",
    "number = random.randint(1, 30)\n",
    "\n",
    "print('Well, ' + myName + ', I am thinking of a number between 1 and 30.')\n",
    "\n",
    "\n",
    "\n",
    "while guessesTaken < 3:\n",
    "\n",
    "    print('Take a guess.') # There are four spaces in front of print.\n",
    "\n",
    "    guess = input()\n",
    "\n",
    "    guess = int(guess)\n",
    "\n",
    "\n",
    "\n",
    "    guessesTaken = guessesTaken + 1\n",
    "\n",
    "\n",
    "\n",
    "    if guess < number:\n",
    "\n",
    "        print('Your guess is too low.') # There are eight spaces in front of print.\n",
    "\n",
    "\n",
    "\n",
    "    if guess > number:\n",
    "\n",
    "        print('Your guess is too high.')\n",
    "\n",
    "\n",
    "\n",
    "    if guess == number:\n",
    "\n",
    "        break\n",
    "\n",
    "\n",
    "\n",
    "if guess == number:\n",
    "\n",
    "    guessesTaken = str(guessesTaken)\n",
    "\n",
    "    print('Good job, ' + myName + '! You guessed my number in ' + guessesTaken + ' guesses!')\n",
    "\n",
    "\n",
    "\n",
    "if guess != number:\n",
    "\n",
    "    number = str(number)\n",
    "\n",
    "    print('Nope. The number I was thinking of was ' + number)"
   ]
  },
  {
   "cell_type": "code",
   "execution_count": null,
   "metadata": {},
   "outputs": [],
   "source": []
  }
 ],
 "metadata": {
  "kernelspec": {
   "display_name": "Python 3",
   "language": "python",
   "name": "python3"
  },
  "language_info": {
   "codemirror_mode": {
    "name": "ipython",
    "version": 3
   },
   "file_extension": ".py",
   "mimetype": "text/x-python",
   "name": "python",
   "nbconvert_exporter": "python",
   "pygments_lexer": "ipython3",
   "version": "3.7.4"
  }
 },
 "nbformat": 4,
 "nbformat_minor": 2
}
